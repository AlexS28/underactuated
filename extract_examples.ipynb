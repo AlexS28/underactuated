{
 "cells": [
  {
   "cell_type": "code",
   "execution_count": 96,
   "metadata": {
    "collapsed": false
   },
   "outputs": [],
   "source": [
    "from bs4 import BeautifulSoup"
   ]
  },
  {
   "cell_type": "code",
   "execution_count": 113,
   "metadata": {
    "collapsed": true
   },
   "outputs": [],
   "source": [
    "from collections import defaultdict\n",
    "import re\n",
    "import shutil\n",
    "import os"
   ]
  },
  {
   "cell_type": "code",
   "execution_count": 121,
   "metadata": {
    "collapsed": true
   },
   "outputs": [],
   "source": [
    "class CodeExample(object):\n",
    "    extension_map = {\"matlab\": \".m\"}\n",
    "    def __init__(self, name, code, chapter_title, language=\"matlab\"):\n",
    "        self.name = name\n",
    "        self.code = code\n",
    "        self.chapter_title = chapter_title\n",
    "        self.language = language\n",
    "    \n",
    "    def folder(self):\n",
    "        return self.chapter_title\n",
    "\n",
    "    def filename(self):\n",
    "        return self.name + self.extension_map[self.language]\n",
    "\n",
    "    def path(self):\n",
    "        return os.path.join(self.folder(), self.filename())\n",
    "    \n",
    "    def appendToFile(self, dir=os.path.abspath(os.path.curdir)):\n",
    "        if not os.path.exists(os.path.join(dir, self.folder())):\n",
    "            os.mkdir(os.path.join(dir, self.folder()))\n",
    "        with open(os.path.join(dir, self.path()), 'a') as f:\n",
    "            f.write(self.code)\n",
    "            f.write(\"\\n\")\n",
    "    \n",
    "def chapter_name(chapter):\n",
    "    \"\"\"Return a sanitized version of the next h1 tag's contents\"\"\"\n",
    "    h1 = chapter.find(\"h1\")\n",
    "    if h1 is not None:\n",
    "        s = unicode(h1.string).lower()\n",
    "        s = re.sub(r\"[^0-9a-z]\", \"_\", s)\n",
    "        s = re.sub(r\"_+\", \"_\", s)\n",
    "        return s\n",
    "    else:\n",
    "        raise ValueError(\"Cannot find an h1 for this chapter\")\n",
    "        \n",
    "def find_chapter_numbers(soup):\n",
    "    chapter_numbers = {}\n",
    "    appendix_numbers = {}\n",
    "    next_chapter = 1\n",
    "    next_appendix = 1\n",
    "    for chapter in soup.find_all(\"section\", class_=\"chapter\"):\n",
    "        if chapter.find_parents(\"appendix\"):\n",
    "            appendix_numbers[chapter_name(chapter)] = next_appendix\n",
    "            next_appendix += 1\n",
    "        else:\n",
    "            chapter_numbers[chapter_name(chapter)] = next_chapter\n",
    "            next_chapter += 1\n",
    "    return chapter_numbers, appendix_numbers\n",
    "        \n",
    "def parse_examples(code_elements, chapter_numbers, appendix_numbers):\n",
    "    folder_counts = defaultdict(lambda: 0)\n",
    "    for el in code_elements:\n",
    "        if \"testfile\" not in el.attrs:\n",
    "            continue\n",
    "        ch_name = chapter_name(el.find_parent(\"section\", class_=\"chapter\"))\n",
    "        if ch_name in chapter_numbers:\n",
    "            chapter_title = \"Chapter_{:02d}_{:s}\".format(chapter_numbers[ch_name], ch_name)\n",
    "        elif ch_name in appendix_numbers:\n",
    "            chapter_title = \"Appendix_{:s}_{:s}\".format(chr(appendix_numbers[ch_name] + 64), ch_name)\n",
    "        code = unicode(el.string)\n",
    "        folder_counts[ch_name] += 1\n",
    "        count = folder_counts[ch_name]\n",
    "        name = el[\"testfile\"]\n",
    "        example = CodeExample(name, code, chapter_title)\n",
    "        yield example\n",
    "    \n",
    "def collect_examples(soup):\n",
    "    chapter_numbers, appendix_numbers = find_chapter_numbers(soup)\n",
    "    examples = parse_examples(soup.find_all(\"code\"), chapter_numbers, appendix_numbers)\n",
    "    return examples\n",
    "\n",
    "def extract_and_write_examples(textbook_html_file, destination_dir, build_folder='textbook_build'):\n",
    "    \"\"\"\n",
    "    Extract all the matlab code snippets which have a 'testfile' attribute \n",
    "    and write them to the appropriate files within destination_dir.\n",
    "    \n",
    "    WARNING: this will overwrite all the contents of destination_dir/textbook_build. \n",
    "    \"\"\"\n",
    "    build_path = os.path.abspath(os.path.join(destination_dir, build_folder))\n",
    "    if os.path.exists(build_path):\n",
    "        shutil.rmtree(build_path)\n",
    "    os.mkdir(build_path)\n",
    "    \n",
    "    soup = BeautifulSoup(open(textbook_html_file))\n",
    "    for example in collect_examples(soup):\n",
    "        example.appendToFile(build_path)\n",
    "    "
   ]
  },
  {
   "cell_type": "code",
   "execution_count": 122,
   "metadata": {
    "collapsed": false
   },
   "outputs": [],
   "source": [
    "extract_and_write_examples(\"underactuated.html\", \".\")"
   ]
  },
  {
   "cell_type": "code",
   "execution_count": null,
   "metadata": {
    "collapsed": true
   },
   "outputs": [],
   "source": []
  }
 ],
 "metadata": {
  "kernelspec": {
   "display_name": "Python 2",
   "language": "python",
   "name": "python2"
  },
  "language_info": {
   "codemirror_mode": {
    "name": "ipython",
    "version": 2
   },
   "file_extension": ".py",
   "mimetype": "text/x-python",
   "name": "python",
   "nbconvert_exporter": "python",
   "pygments_lexer": "ipython2",
   "version": "2.7.6"
  }
 },
 "nbformat": 4,
 "nbformat_minor": 0
}
