{
 "cells": [
  {
   "cell_type": "markdown",
   "metadata": {},
   "source": [
    "## Notebook Setup \n",
    "The following cell will install Drake, checkout the underactuated repository, and set up the path (only if necessary).\n",
    "- On Google's Colaboratory, this **will take approximately two minutes** on the first time it runs (to provision the machine), but should only need to reinstall once every 12 hours.  Colab will ask you to \"Reset all runtimes\"; say no to save yourself the reinstall.\n",
    "- On Binder, the machines should already be provisioned by the time you can run this; it should return (almost) instantly.\n",
    "\n",
    "More details are available [here](http://underactuated.mit.edu/underactuated.html?chapter=drake)."
   ]
  },
  {
   "cell_type": "code",
   "execution_count": null,
   "metadata": {},
   "outputs": [],
   "source": [
    "try:\n",
    "  import pydrake\n",
    "  import underactuated\n",
    "except ImportError:\n",
    "  !curl -s https://raw.githubusercontent.com/RussTedrake/underactuated/master/scripts/setup/jupyter_setup.py > jupyter_setup.py\n",
    "  from jupyter_setup import setup_underactuated\n",
    "  setup_underactuated()"
   ]
  },
  {
   "cell_type": "markdown",
   "metadata": {},
   "source": [
    "# Trajectory optimization for the Rimless Wheel\n"
   ]
  },
  {
   "cell_type": "code",
   "execution_count": null,
   "metadata": {},
   "outputs": [],
   "source": [
    "import matplotlib.pyplot as plt\n",
    "import numpy as np\n",
    "\n",
    "from underactuated.jupyter import SetupMatplotlibBackend\n",
    "plt_is_interactive = SetupMatplotlibBackend()\n",
    "\n",
    "from pydrake.examples.rimless_wheel import RimlessWheel\n",
    "from pydrake.all import DirectCollocation, Solve\n",
    "\n",
    "plant = RimlessWheel()\n",
    "context = plant.CreateDefaultContext()\n",
    "\n",
    "params = context.get_numeric_parameter(0)\n",
    "slope = params.slope()\n",
    "alpha = np.pi / params.number_of_spokes()\n",
    "\n",
    "dircol = DirectCollocation(plant,\n",
    "                           context,\n",
    "                           num_time_samples=15,\n",
    "                           minimum_timestep=0.01,\n",
    "                           maximum_timestep=0.1,\n",
    "                           assume_non_continuous_states_are_fixed=True)\n",
    "\n",
    "dircol.AddEqualTimeIntervalsConstraints()\n",
    "\n",
    "dircol.AddConstraintToAllKnotPoints(dircol.state()[0] >= slope - alpha)\n",
    "dircol.AddConstraintToAllKnotPoints(dircol.state()[0] <= slope + alpha)\n",
    "\n",
    "dircol.AddConstraint(dircol.initial_state()[0] == slope - alpha)\n",
    "dircol.AddConstraint(dircol.final_state()[0] == slope + alpha)\n",
    "\n",
    "dircol.AddConstraint(dircol.initial_state()[1] == dircol.final_state()[1] *\n",
    "                     np.cos(2 * alpha))\n",
    "\n",
    "result = Solve(dircol)\n",
    "assert result.is_success()\n",
    "\n",
    "x_trajectory = dircol.ReconstructStateTrajectory(result)\n",
    "\n",
    "x_knots = np.hstack([\n",
    "    x_trajectory.value(t) for t in np.linspace(x_trajectory.start_time(),\n",
    "                                               x_trajectory.end_time(), 100)\n",
    "])\n",
    "\n",
    "fig, ax = plt.subplots()\n",
    "ax.plot(x_knots[0, :], x_knots[1, :])\n",
    "ax.plot([x_knots[0, 0], x_knots[0, -1]], [x_knots[1, 0], x_knots[1, -1]], \"--\")\n",
    "\n",
    "# Plot the energy contours.\n",
    "nq = 151\n",
    "nqd = 151\n",
    "mgl = params.mass() * params.gravity() * params.length()\n",
    "q = np.linspace(-0.5, 0.5, nq)\n",
    "qd = np.linspace(-.5, 2, nqd)\n",
    "Q, QD = np.meshgrid(q, qd)\n",
    "Energy = .5 * params.mass() * params.length()**2 * QD**2 + mgl * np.cos(Q)\n",
    "ax.contour(Q,\n",
    "           QD,\n",
    "           Energy,\n",
    "           alpha=0.5,\n",
    "           linestyles=\"dashed\",\n",
    "           colors=\"black\",\n",
    "           linewidths=0.5)\n",
    "\n",
    "ax.set_xlabel(\"theta\")\n",
    "ax.set_ylabel(\"thetadot\")\n",
    "ax.axis([-0.5, 0.5, 0, 2])\n",
    "ax.set_title(\"Limit Cycle of the Rimless Wheel (w/ contours of \"\n",
    "             \"constant energy)\");"
   ]
  },
  {
   "cell_type": "code",
   "execution_count": null,
   "metadata": {},
   "outputs": [],
   "source": []
  }
 ],
 "metadata": {
  "kernelspec": {
   "display_name": "Python 3",
   "language": "python",
   "name": "python3"
  },
  "language_info": {
   "codemirror_mode": {
    "name": "ipython",
    "version": 3
   },
   "file_extension": ".py",
   "mimetype": "text/x-python",
   "name": "python",
   "nbconvert_exporter": "python",
   "pygments_lexer": "ipython3",
   "version": "3.7.7"
  }
 },
 "nbformat": 4,
 "nbformat_minor": 4
}
